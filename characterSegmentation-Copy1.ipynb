{
 "cells": [
  {
   "cell_type": "code",
   "execution_count": 30,
   "id": "2eaf4f7e",
   "metadata": {},
   "outputs": [],
   "source": [
    "import cv2\n",
    "import numpy as np\n",
    "import imutils\n"
   ]
  },
  {
   "cell_type": "code",
   "execution_count": 31,
   "id": "09540e83",
   "metadata": {},
   "outputs": [],
   "source": [
    "\n",
    "def disp(imag):\n",
    "    cv2.imshow(\"image\", imag)\n",
    "    cv2.waitKey(0)\n",
    "    cv2.destroyAllWindows()\n",
    "    "
   ]
  },
  {
   "cell_type": "code",
   "execution_count": 32,
   "id": "f6d61682",
   "metadata": {},
   "outputs": [],
   "source": [
    "img_original= cv2.imread(r\"C:\\Users\\vishn\\OneDrive\\Desktop\\input.jpg\")\n",
    "\n",
    "scale_percent = 20 # percent of original size\n",
    "width = int(img_original.shape[1] * scale_percent / 100)\n",
    "height = int(img_original.shape[0] * scale_percent / 100)\n",
    "dim = (width, height)\n",
    "  \n",
    "# resize image\n",
    "image = cv2.resize(img_original, dim, interpolation = cv2.INTER_AREA)\n",
    "#img = cv2.cvtColor(img, cv2.COLOR_BGR2GRAY)\n",
    "#disp(img)"
   ]
  },
  {
   "cell_type": "code",
   "execution_count": 33,
   "id": "847a277d",
   "metadata": {},
   "outputs": [],
   "source": [
    "#image = cv2.imread(r\"C:\\Users\\vishn\\OneDrive\\Desktop\\input.jpg\")\n",
    "#image = cv2.imread(\"ImagePreProcessingFinal.jpg\")\n",
    "#disp(image)\n",
    "gray = cv2.cvtColor(image, cv2.COLOR_BGR2GRAY)\n",
    "disp(gray)\n",
    "#gray = cv2.GaussianBlur(gray, (7, 7), 0)\n",
    "#disp(gray)\n",
    "ret,thresh1 = cv2.threshold(gray ,127,255,cv2.THRESH_BINARY_INV)\n",
    "disp(thresh1)\n",
    "dilate = cv2.dilate(thresh1, None, iterations=1)\n",
    "disp(dilate)\n"
   ]
  },
  {
   "cell_type": "code",
   "execution_count": 28,
   "id": "f38677fb",
   "metadata": {},
   "outputs": [],
   "source": [
    "cnts = cv2.findContours(thresh1.copy(), cv2.RETR_EXTERNAL,\n",
    "    cv2.CHAIN_APPROX_SIMPLE)\n",
    "cnts = cnts[1] if imutils.is_cv2() else cnts[0]\n",
    "sorted_ctrs = sorted(cnts, key=lambda ctr: cv2.boundingRect(ctr)[0] + cv2.boundingRect(ctr)[1] * image.shape[1] )"
   ]
  },
  {
   "cell_type": "code",
   "execution_count": 29,
   "id": "3a359eb0",
   "metadata": {},
   "outputs": [
    {
     "name": "stdout",
     "output_type": "stream",
     "text": [
      "384 58 43 34 ................. 1462\n",
      "432 58 56 34 ................. 1904\n",
      "174 61 76 50 ................. 3800\n",
      "77 63 56 50 ................. 2800\n",
      "137 64 35 43 ................. 1505\n",
      "252 64 78 40 ................. 3120\n"
     ]
    },
    {
     "data": {
      "text/plain": [
       "True"
      ]
     },
     "execution_count": 29,
     "metadata": {},
     "output_type": "execute_result"
    }
   ],
   "source": [
    "orig=image\n",
    "i=1\n",
    "for cnt in sorted_ctrs:\n",
    "    # Check the area of contour, if it is very small ignore it\n",
    "    if(cv2.contourArea(cnt) < 200):\n",
    "        continue\n",
    "\n",
    "    # Filtered countours are detected\n",
    "    x,y,w,h = cv2.boundingRect(cnt)\n",
    "    \n",
    "    if x!=0 and y!=0:\n",
    "         # Taking ROI of the cotour\n",
    "        roi = image[y:y+h, x:x+w]\n",
    "    \n",
    "          # Mark them on the image if you want\n",
    "        cv2.rectangle(orig,(x,y),(x+w,y+h),(0,255,0),2)\n",
    "\n",
    "        # Save your contours or characters\n",
    "        cv2.imwrite(\"Images/roi\" + str(i) + \".png\", roi)\n",
    "        print(x,y,w,h,'.................', w*h)\n",
    "        disp(roi)\n",
    "        i = i + 1 \n",
    "cv2.imwrite(\"box.jpg\",orig)"
   ]
  },
  {
   "cell_type": "code",
   "execution_count": null,
   "id": "cb489d12",
   "metadata": {},
   "outputs": [],
   "source": []
  }
 ],
 "metadata": {
  "kernelspec": {
   "display_name": "Python 3",
   "language": "python",
   "name": "python3"
  },
  "language_info": {
   "codemirror_mode": {
    "name": "ipython",
    "version": 3
   },
   "file_extension": ".py",
   "mimetype": "text/x-python",
   "name": "python",
   "nbconvert_exporter": "python",
   "pygments_lexer": "ipython3",
   "version": "3.8.8"
  }
 },
 "nbformat": 4,
 "nbformat_minor": 5
}
